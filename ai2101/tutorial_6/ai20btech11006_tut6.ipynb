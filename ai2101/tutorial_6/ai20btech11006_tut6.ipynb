{
 "cells": [
  {
   "cell_type": "code",
   "execution_count": 1,
   "metadata": {},
   "outputs": [],
   "source": [
    "import cvxpy as cp\n",
    "import numpy as np"
   ]
  },
  {
   "cell_type": "markdown",
   "metadata": {},
   "source": [
    "### Production per day\n",
    "ipod : 6000         \n",
    "iphone : 5000        \n",
    "ipad : 3000    \n",
    "### Space per 1000 covers\n",
    "ipod : 40    \n",
    "iphone : 45        \n",
    "ipad : 210  \n",
    "**Total space : 6000**\n",
    "### minimum production\n",
    "ipod : 5000     \n",
    "ipad : 4000\n",
    "### max demand\n",
    "ipod : 10000        \n",
    "iphone : 15000      \n",
    "ipad : 8000\n",
    "### profit\n",
    "ipod : 4    \n",
    "iphone : 6      \n",
    "ipad : 10   \n"
   ]
  },
  {
   "cell_type": "markdown",
   "metadata": {},
   "source": [
    "### minimum production:     \n",
    "$5*production*x \\geq$ min_production      \n",
    "### maximum production:     \n",
    "$5*production*x\\leq $ max_production        \n",
    "### space   \n",
    "$5*(production*x)@space\\leq 6000*1000$"
   ]
  },
  {
   "cell_type": "code",
   "execution_count": 2,
   "metadata": {},
   "outputs": [
    {
     "data": {
      "text/plain": [
       "145000.00001149383"
      ]
     },
     "execution_count": 2,
     "metadata": {},
     "output_type": "execute_result"
    }
   ],
   "source": [
    "# production per day\n",
    "production = np.array([6000,5000,3000], dtype= float)\n",
    "# space taken per thousand articles\n",
    "space = np.array([40,45,210], dtype=float)\n",
    "# minimum production\n",
    "min_production = np.array([5000,0,4000])\n",
    "# maximum production\n",
    "max_production = np.array([10000,15000,8000])\n",
    "# profits\n",
    "profits = np.array([4,6,10], dtype=float) \n",
    "\n",
    "# x represents the proportion of time spent on each article\n",
    "x = cp.Variable(3)\n",
    "\n",
    "constraints = [np.ones(3)@x == 1, 5*cp.multiply(production,x) >= min_production,\\\n",
    "    5*cp.multiply(production,x) <= max_production,\\\n",
    "        5*cp.multiply(production,x)@space<=6000*1000, x>=0]\n",
    "objective = cp.Maximize(5*profits@cp.multiply(production,x))\n",
    "\n",
    "prob = cp.Problem(objective,constraints)\n",
    "prob.solve()\n",
    "\n"
   ]
  },
  {
   "cell_type": "code",
   "execution_count": 3,
   "metadata": {},
   "outputs": [
    {
     "name": "stdout",
     "output_type": "stream",
     "text": [
      "Optimal profit: 145000.00001149383\n",
      "Optimal proportions: [0.16666667 0.31454957 0.51878377]\n"
     ]
    }
   ],
   "source": [
    "print(\"Optimal profit:\",prob.value)\n",
    "print(\"Optimal proportions:\",x.value)"
   ]
  },
  {
   "cell_type": "markdown",
   "metadata": {},
   "source": [
    "### For z\n",
    "$\\vec{z} = 40* \\vec{x}$     \n",
    "$\\vec{z} = \\begin{pmatrix} 6.6666668 \\\\12.5819828\\\\ 20.7513508\\end{pmatrix}$\n",
    "\n",
    "### For y\n",
    "$5*\\vec{production}\\odot \\vec{x} = \\vec{y}$     \n",
    "$\\vec{y} = \\begin{pmatrix} 5000 \\\\ 7864 \\\\ 7781 \\end{pmatrix}$"
   ]
  },
  {
   "cell_type": "code",
   "execution_count": null,
   "metadata": {},
   "outputs": [],
   "source": []
  }
 ],
 "metadata": {
  "interpreter": {
   "hash": "916dbcbb3f70747c44a77c7bcd40155683ae19c65e1c03b4aa3499c5328201f1"
  },
  "kernelspec": {
   "display_name": "Python 3.8.10 64-bit",
   "language": "python",
   "name": "python3"
  },
  "language_info": {
   "codemirror_mode": {
    "name": "ipython",
    "version": 3
   },
   "file_extension": ".py",
   "mimetype": "text/x-python",
   "name": "python",
   "nbconvert_exporter": "python",
   "pygments_lexer": "ipython3",
   "version": "3.8.10"
  },
  "orig_nbformat": 4
 },
 "nbformat": 4,
 "nbformat_minor": 2
}
