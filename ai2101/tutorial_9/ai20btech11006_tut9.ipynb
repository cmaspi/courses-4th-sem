{
 "cells": [
  {
   "cell_type": "code",
   "execution_count": 14,
   "metadata": {},
   "outputs": [],
   "source": [
    "import numpy as np\n",
    "import cvxpy as cp\n",
    "import matplotlib.pyplot as plt"
   ]
  },
  {
   "cell_type": "code",
   "execution_count": 15,
   "metadata": {},
   "outputs": [],
   "source": [
    "G = np.array([[1, 0.1, 0.2, 0.1, 0],\\\n",
    "[0.1, 1, 0.1, 0.1, 0],\\\n",
    "[0.2, 0.1, 2, 0.2, 0.2],\\\n",
    "[0.1, 0.1, 0.2, 1, 0.1],\\\n",
    "[0, 0, 0.2, 0.1, 1] ])\n",
    "\n",
    "n = 5\n",
    "# two groups {1,2} , {3,4,5}\n",
    "\n",
    "p_max = 3\n",
    "p_g_1 = 4\n",
    "p_g_2 = 6\n",
    "p_rc = 5\n",
    "\n",
    "sigma = 0.5"
   ]
  },
  {
   "cell_type": "code",
   "execution_count": 16,
   "metadata": {},
   "outputs": [],
   "source": [
    "p = cp.Variable(n)\n",
    "\n",
    "# constraints\n",
    "constraints = [ p>=0 ]\n",
    "constraints.append( p<=p_max )\n",
    "constraints.append( p@np.array([1,1,0,0,0]) <= p_g_1 )\n",
    "constraints.append( p@np.array([0,0,1,1,1]) <= p_g_2 )\n",
    "constraints.append( G@p <= p_rc )\n",
    "\n",
    "\n",
    "# max ( min S_i/(I_i + sigma_i))\n",
    "# (I_i+sigma)/S_i >= alpha\n",
    "# minimize alpha\n",
    "# answer 1/alpha\n",
    "# \n",
    "\n"
   ]
  },
  {
   "cell_type": "code",
   "execution_count": 17,
   "metadata": {},
   "outputs": [
    {
     "name": "stdout",
     "output_type": "stream",
     "text": [
      "the maximum SINR value is 1.68559670781893\n"
     ]
    }
   ],
   "source": [
    "def solver(constraints, sigma, l = 0, u = 10):\n",
    "    alpha = cp.Parameter()\n",
    "    alpha.value = (l+u)/2\n",
    "    S = cp.multiply(G.diagonal(), p)\n",
    "    I = G@p - S\n",
    "    constraints.append( (I+sigma) <= alpha*S )\n",
    "    objective = cp.Minimize(alpha)\n",
    "    prob = cp.Problem(objective, constraints)\n",
    "    if (u-l)<=0.005:\n",
    "        return 1/alpha.value\n",
    "    try:\n",
    "        prob.solve()\n",
    "        if prob.status == 'optimal':\n",
    "            return solver(constraints[:-1], sigma, l = l, u = alpha.value)\n",
    "        else:\n",
    "            return solver(constraints[:-1], sigma, l = alpha.value, u = u)\n",
    "    except:\n",
    "        return solver(constraints[:-1], sigma, u =u*10)\n",
    "        \n",
    "print(\"the maximum SINR value is\",solver(constraints, sigma))\n"
   ]
  },
  {
   "cell_type": "code",
   "execution_count": null,
   "metadata": {},
   "outputs": [],
   "source": []
  }
 ],
 "metadata": {
  "interpreter": {
   "hash": "916dbcbb3f70747c44a77c7bcd40155683ae19c65e1c03b4aa3499c5328201f1"
  },
  "kernelspec": {
   "display_name": "Python 3.8.10 64-bit",
   "language": "python",
   "name": "python3"
  },
  "language_info": {
   "codemirror_mode": {
    "name": "ipython",
    "version": 3
   },
   "file_extension": ".py",
   "mimetype": "text/x-python",
   "name": "python",
   "nbconvert_exporter": "python",
   "pygments_lexer": "ipython3",
   "version": "3.8.10"
  },
  "orig_nbformat": 4
 },
 "nbformat": 4,
 "nbformat_minor": 2
}
