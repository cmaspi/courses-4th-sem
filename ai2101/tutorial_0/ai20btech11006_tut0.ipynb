{
 "cells": [
  {
   "cell_type": "code",
   "execution_count": 20,
   "metadata": {},
   "outputs": [],
   "source": [
    "import numpy as np\n",
    "import cvxpy as cp\n",
    "\n",
    "def Cost(n, costs):\n",
    "    return costs@n"
   ]
  },
  {
   "cell_type": "code",
   "execution_count": 21,
   "metadata": {},
   "outputs": [
    {
     "data": {
      "text/plain": [
       "3.150000000846035"
      ]
     },
     "execution_count": 21,
     "metadata": {},
     "output_type": "execute_result"
    }
   ],
   "source": [
    "cal = np.array([72,121,65])\n",
    "vitA = np.array([107,500,0])\n",
    "n = cp.Variable(3)\n",
    "cost = np.array([0.18,0.23,0.05])\n",
    "# print(cost)\n",
    "\n",
    "constraints = [ cal@n<=2250, cal@n>=2000, vitA@n>=5000, vitA@n<=50000, n<=10, n>=0]\n",
    "\n",
    "objective = cp.Minimize(np.sum(cost@n))\n",
    "\n",
    "prob = cp.Problem(objective, constraints)\n",
    "\n",
    "prob.solve()"
   ]
  },
  {
   "cell_type": "code",
   "execution_count": 22,
   "metadata": {},
   "outputs": [
    {
     "name": "stdout",
     "output_type": "stream",
     "text": [
      "Number of servings are [ 1.94444445 10.         10.        ] and the total cost is 3.150000000846035\n"
     ]
    }
   ],
   "source": [
    "# print(\"Number of servings are {} and the total cost is {}\".format(\", \".join(n.value.astype('str')),Cost(n.value, cost)))\n",
    "\n",
    "print(\"Number of servings are {} and the total cost is {}\".format(n.value,Cost(n.value, cost)))"
   ]
  },
  {
   "cell_type": "code",
   "execution_count": null,
   "metadata": {},
   "outputs": [],
   "source": []
  }
 ],
 "metadata": {
  "interpreter": {
   "hash": "916dbcbb3f70747c44a77c7bcd40155683ae19c65e1c03b4aa3499c5328201f1"
  },
  "kernelspec": {
   "display_name": "Python 3.8.10 64-bit",
   "language": "python",
   "name": "python3"
  },
  "language_info": {
   "codemirror_mode": {
    "name": "ipython",
    "version": 3
   },
   "file_extension": ".py",
   "mimetype": "text/x-python",
   "name": "python",
   "nbconvert_exporter": "python",
   "pygments_lexer": "ipython3",
   "version": "3.8.10"
  },
  "orig_nbformat": 4
 },
 "nbformat": 4,
 "nbformat_minor": 2
}
