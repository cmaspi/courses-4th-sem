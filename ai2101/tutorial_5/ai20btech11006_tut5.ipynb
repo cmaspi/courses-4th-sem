{
 "cells": [
  {
   "cell_type": "code",
   "execution_count": 20,
   "metadata": {},
   "outputs": [],
   "source": [
    "import numpy as np\n",
    "import cvxpy as cp\n"
   ]
  },
  {
   "cell_type": "markdown",
   "metadata": {},
   "source": [
    "$n$ factories       \n",
    "each produces $s_i$ amount of goods     \n",
    "These goods need to be shipped to $m$ destinations, each having a demand $d_i$.     \n"
   ]
  },
  {
   "cell_type": "code",
   "execution_count": 21,
   "metadata": {},
   "outputs": [],
   "source": [
    "s = np.array([40,50,45], dtype=float)\n",
    "d = np.array([45,20,30,30,10], dtype=float)\n",
    "c = np.array([[8,6,10,9,8],[9,12,13,7,5],[14,9,16,5,2]], dtype=float)\n",
    "n,m = c.shape"
   ]
  },
  {
   "cell_type": "code",
   "execution_count": 22,
   "metadata": {},
   "outputs": [],
   "source": [
    "def cost(c,supply):\n",
    "    return cp.sum(cp.multiply(c,supply))\n"
   ]
  },
  {
   "cell_type": "code",
   "execution_count": 25,
   "metadata": {},
   "outputs": [
    {
     "data": {
      "text/plain": [
       "1025.0000016272222"
      ]
     },
     "execution_count": 25,
     "metadata": {},
     "output_type": "execute_result"
    }
   ],
   "source": [
    "supply = cp.Variable((n,m))\n",
    "constraints = [supply>=0, supply@np.ones(m)==s, np.ones(n)@supply==d]\n",
    "objective = cp.Minimize(cost(c,supply))\n",
    "prob = cp.Problem(objective,constraints)\n",
    "prob.solve()\n"
   ]
  },
  {
   "cell_type": "code",
   "execution_count": 26,
   "metadata": {},
   "outputs": [
    {
     "data": {
      "text/plain": [
       "array([[1.00107960e-07, 1.49999999e+01, 2.50000000e+01, 2.67631081e-08,\n",
       "        1.46007111e-08],\n",
       "       [4.49999999e+01, 9.78224560e-08, 4.99999990e+00, 1.01109012e-07,\n",
       "        4.26142936e-08],\n",
       "       [4.19199023e-08, 5.00000005e+00, 9.17086801e-08, 2.99999999e+01,\n",
       "        9.99999994e+00]])"
      ]
     },
     "execution_count": 26,
     "metadata": {},
     "output_type": "execute_result"
    }
   ],
   "source": [
    "supply.value"
   ]
  },
  {
   "cell_type": "code",
   "execution_count": null,
   "metadata": {},
   "outputs": [],
   "source": []
  }
 ],
 "metadata": {
  "interpreter": {
   "hash": "14f81f8b641532ab52f6b6c6cc4b3b39091fd456ade1872c042338078321f47e"
  },
  "kernelspec": {
   "display_name": "Python 3.9.7 ('base')",
   "language": "python",
   "name": "python3"
  },
  "language_info": {
   "codemirror_mode": {
    "name": "ipython",
    "version": 3
   },
   "file_extension": ".py",
   "mimetype": "text/x-python",
   "name": "python",
   "nbconvert_exporter": "python",
   "pygments_lexer": "ipython3",
   "version": "3.8.10"
  },
  "orig_nbformat": 4
 },
 "nbformat": 4,
 "nbformat_minor": 2
}
