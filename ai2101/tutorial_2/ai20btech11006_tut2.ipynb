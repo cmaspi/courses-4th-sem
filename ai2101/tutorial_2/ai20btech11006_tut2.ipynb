{
 "cells": [
  {
   "cell_type": "code",
   "execution_count": 1,
   "metadata": {},
   "outputs": [],
   "source": [
    "import numpy as np\n",
    "import cvxpy as cp"
   ]
  },
  {
   "cell_type": "code",
   "execution_count": 2,
   "metadata": {},
   "outputs": [],
   "source": [
    "# Exchange rate data.\n",
    "tickers = [\"USD\", \"EUR\", \"GBP\", \"CAD\", \"JPY\", \"CNY\", \"RUB\", \"MXN\", \"INR\", \"BRL\"]\n",
    "n = len(tickers)\n",
    "F = np.zeros((n, n))\n",
    "# USD\n",
    "data = ([1.0, 0.87, 0.76, 1.31, 108.90, 6.72, 65.45, 19.11, 71.13, 3.69],\n",
    "# EUR\n",
    "[1.0, 0.88, 1.51, 125.15, 7.72, 75.23, 21.96, 81.85, 4.24],\n",
    "# GBP\n",
    "[1.0, 1.72, 142.94, 8.82, 85.90, 25.08, 93.50, 4.84],\n",
    "# CAD\n",
    "[1.0, 82.93, 5.11, 49.82, 14.54, 54.23, 2.81],\n",
    "# JPY\n",
    "[1.0, 0.062, 0.60, 0.18, 0.65, 0.034],\n",
    "# CNY\n",
    "[1.0, 9.74, 2.85, 10.61, 0.55],\n",
    "# RUB\n",
    "[1.0, 0.29, 1.09, 0.056],\n",
    "# MXN\n",
    "[1.0, 3.73, 0.19],\n",
    "# INR\n",
    "[1.0, 0.052],\n",
    "# BRL\n",
    "[1.0])\n",
    "for i in range(n):\n",
    "    F[i,i:] = data[i]\n",
    "for j in range(n):\n",
    "    for i in range(j+1,n):\n",
    "        F[i,j] = 1.035/F[j,i]\n",
    "        \n",
    "# Initial and final portfolios.\n",
    "c_req = np.arange(1,n+1)\n",
    "c_req = 1e4*c_req/c_req.sum()\n",
    "c_init = c_req[::-1]\n",
    "\n",
    "# discussed in class\n",
    "def cost(F,c_init,c_final,n):\n",
    "    sum = 0\n",
    "    for i in range(n):\n",
    "        sum += (c_init[i]-c_final[i])*np.sqrt(F[i,0]/F[0,i])\n",
    "    return sum"
   ]
  },
  {
   "cell_type": "code",
   "execution_count": 3,
   "metadata": {},
   "outputs": [
    {
     "data": {
      "text/plain": [
       "7.720060114618434"
      ]
     },
     "execution_count": 3,
     "metadata": {},
     "output_type": "execute_result"
    }
   ],
   "source": [
    "X = cp.Variable((10,10))\n",
    "c_final = cp.Variable(10)\n",
    "\n",
    "# constraints discussed in class\n",
    "constraints = [ c_final == c_init+(X/F)@np.ones(10)-X.T@np.ones(10) , X>=0 , cp.diag(X)==0, c_final >= c_req, X.T@np.ones(10)<=c_init  ]\n",
    "\n",
    "# cost function defined in prev cell\n",
    "objective = cp.Minimize(cost(F,c_init, c_final, n))\n",
    "\n",
    "prob = cp.Problem( objective, constraints)\n",
    "\n",
    "prob.solve()"
   ]
  },
  {
   "cell_type": "code",
   "execution_count": 4,
   "metadata": {},
   "outputs": [
    {
     "name": "stdout",
     "output_type": "stream",
     "text": [
      "X: [[0.00000000e+00 0.00000000e+00 0.00000000e+00 1.00000000e-06\n",
      "  3.60000000e-05 2.00000000e-06 1.60000000e-05 5.00000000e-06\n",
      "  1.20000000e-05 1.00000000e-06]\n",
      " [1.00000000e-06 0.00000000e+00 1.00000000e-06 2.00000000e-06\n",
      "  1.21000000e-04 3.00000000e-06 3.20000000e-05 9.00000000e-06\n",
      "  1.70000000e-05 1.00000000e-06]\n",
      " [1.00000000e-06 0.00000000e+00 0.00000000e+00 5.45454545e+02\n",
      "  1.90000000e-04 4.00000000e-06 3.80000000e-05 1.10000000e-05\n",
      "  1.90000000e-05 1.00000000e-06]\n",
      " [1.00000000e-06 0.00000000e+00 0.00000000e+00 0.00000000e+00\n",
      "  4.34000000e-04 5.00000000e-06 4.70000000e-05 1.30000000e-05\n",
      "  2.20000000e-05 1.00000000e-06]\n",
      " [1.00000000e-06 0.00000000e+00 0.00000000e+00 0.00000000e+00\n",
      "  0.00000000e+00 4.00000000e-06 1.41000000e-04 5.00000000e-06\n",
      "  3.70000000e-05 1.00000000e-06]\n",
      " [1.65029400e+01 0.00000000e+00 0.00000000e+00 0.00000000e+00\n",
      "  4.40000000e-05 0.00000000e+00 7.27272289e+02 6.30000000e-05\n",
      "  4.08000000e-04 2.00000000e-06]\n",
      " [1.00000000e-06 0.00000000e+00 0.00000000e+00 0.00000000e+00\n",
      "  2.70000000e-05 1.00000000e-06 0.00000000e+00 3.69090819e+02\n",
      "  3.70000000e-05 2.00000000e-06]\n",
      " [1.56860410e+01 0.00000000e+00 0.00000000e+00 0.00000000e+00\n",
      "  1.81817752e+02 2.00000000e-06 1.30000000e-05 0.00000000e+00\n",
      "  6.34000000e-04 1.81818170e+02]\n",
      " [1.85192440e+01 0.00000000e+00 0.00000000e+00 1.00000000e-06\n",
      "  3.00000000e-05 2.00000000e-06 1.70000000e-05 5.00000000e-06\n",
      "  0.00000000e+00 2.00000000e-06]\n",
      " [5.09977825e+02 0.00000000e+00 0.00000000e+00 1.00000000e-06\n",
      "  4.10000000e-05 2.00000000e-06 1.30000000e-05 3.00000000e-06\n",
      "  1.20000000e-05 0.00000000e+00]]\n"
     ]
    }
   ],
   "source": [
    "print(\"X:\",np.around(X.value, decimals=6))"
   ]
  },
  {
   "cell_type": "code",
   "execution_count": null,
   "metadata": {},
   "outputs": [],
   "source": []
  }
 ],
 "metadata": {
  "interpreter": {
   "hash": "916dbcbb3f70747c44a77c7bcd40155683ae19c65e1c03b4aa3499c5328201f1"
  },
  "kernelspec": {
   "display_name": "Python 3.8.10 64-bit",
   "language": "python",
   "name": "python3"
  },
  "language_info": {
   "codemirror_mode": {
    "name": "ipython",
    "version": 3
   },
   "file_extension": ".py",
   "mimetype": "text/x-python",
   "name": "python",
   "nbconvert_exporter": "python",
   "pygments_lexer": "ipython3",
   "version": "3.8.10"
  },
  "orig_nbformat": 4
 },
 "nbformat": 4,
 "nbformat_minor": 2
}
