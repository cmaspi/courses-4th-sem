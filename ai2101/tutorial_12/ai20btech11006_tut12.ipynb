{
 "cells": [
  {
   "cell_type": "code",
   "execution_count": 107,
   "metadata": {},
   "outputs": [],
   "source": [
    "import numpy as np\n",
    "import cvxpy as cp\n",
    "\n",
    "# Given data\n",
    "# seed\n",
    "np.random.seed(10)\n",
    "m = 30\n",
    "n = 10\n",
    "A = np.random.rand(m,n)\n",
    "A = np.asmatrix(A)\n",
    "b = np.random.rand(m,1)\n",
    "b = np.asmatrix(b)\n",
    "c_nom = np.ones((n,1))+np.random.rand(n,1)\n",
    "c_nom = np.asmatrix(c_nom)"
   ]
  },
  {
   "cell_type": "code",
   "execution_count": 108,
   "metadata": {},
   "outputs": [],
   "source": [
    "# We want robust linear program\n",
    "F = np.array([*np.identity(n),*-np.identity(n),*np.ones((1,n))/n,*-np.ones((1,n))/n])\n",
    "g = np.array([*1.25*c_nom,*-0.75*c_nom,1.1*sum(c_nom)/n,-0.9*sum(c_nom)/n]).reshape((22,1))"
   ]
  },
  {
   "cell_type": "code",
   "execution_count": 109,
   "metadata": {},
   "outputs": [],
   "source": [
    "_lambda_ = cp.Variable(g.shape)\n",
    "x = cp.Variable((n,1))\n",
    "obj = cp.Minimize( _lambda_.T@g )\n",
    "constraints = []\n",
    "constraints.append( _lambda_ >= 0 ) \n",
    "constraints.append( F.T @ _lambda_ == x )\n",
    "constraints.append( A @ x >= b )\n",
    "prob = cp.Problem(obj, constraints)\n",
    "_ = prob.solve()\n",
    "x_1 = x.value"
   ]
  },
  {
   "cell_type": "code",
   "execution_count": 110,
   "metadata": {},
   "outputs": [],
   "source": [
    "obj = cp.Minimize( c_nom.T @ x )\n",
    "constraints = [ A @ x >= b]\n",
    "prob = cp.Problem(obj, constraints)\n",
    "_ = prob.solve()\n",
    "x_2 = x.value"
   ]
  },
  {
   "cell_type": "code",
   "execution_count": 111,
   "metadata": {},
   "outputs": [
    {
     "name": "stdout",
     "output_type": "stream",
     "text": [
      "For x_rob and x_nom, Nominal costs are : 2.1092714620826003 and 2.523208864906226\n"
     ]
    }
   ],
   "source": [
    "print('For x_rob and x_nom,',end=' ')\n",
    "print(f'Nominal costs are : {(c_nom.T@x_2).item()} and {(c_nom.T@x_1).item()}')"
   ]
  },
  {
   "cell_type": "code",
   "execution_count": null,
   "metadata": {},
   "outputs": [],
   "source": []
  }
 ],
 "metadata": {
  "interpreter": {
   "hash": "916dbcbb3f70747c44a77c7bcd40155683ae19c65e1c03b4aa3499c5328201f1"
  },
  "kernelspec": {
   "display_name": "Python 3.10.4 64-bit",
   "language": "python",
   "name": "python3"
  },
  "language_info": {
   "codemirror_mode": {
    "name": "ipython",
    "version": 3
   },
   "file_extension": ".py",
   "mimetype": "text/x-python",
   "name": "python",
   "nbconvert_exporter": "python",
   "pygments_lexer": "ipython3",
   "version": "3.10.4"
  },
  "orig_nbformat": 4
 },
 "nbformat": 4,
 "nbformat_minor": 2
}
