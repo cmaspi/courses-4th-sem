{
 "cells": [
  {
   "cell_type": "code",
   "execution_count": 3,
   "metadata": {},
   "outputs": [],
   "source": [
    "import numpy as np\n",
    "import matplotlib.pyplot as plt\n",
    "import cvxpy as cp\n",
    "n = 10\n",
    "m = 5\n",
    "A = np.random.rand(n,m)\n",
    "def penalty(p):\n",
    "    return np.max(np.abs(np.log(A@p)))"
   ]
  },
  {
   "cell_type": "code",
   "execution_count": 6,
   "metadata": {},
   "outputs": [
    {
     "name": "stdout",
     "output_type": "stream",
     "text": [
      "optimal powers: [5.46622165e-01 9.21096634e-12 3.91156813e-01 6.97322677e-01\n",
      " 1.79072538e-01]\n",
      "optimal penalty: 0.25214882462019855\n",
      "(5,)\n",
      "(10, 5)\n"
     ]
    }
   ],
   "source": [
    "p = cp.Variable(m)\n",
    "constraints = [p>=0, p<=1]\n",
    "objective = cp.Minimize(cp.max(cp.maximum(A@p, cp.inv_pos(A@p))))\n",
    "prob = cp.Problem(objective, constraints)\n",
    "prob.solve()\n",
    "print(\"optimal powers:\", p.value )\n",
    "print(\"optimal penalty:\",penalty(p.value))"
   ]
  },
  {
   "cell_type": "code",
   "execution_count": null,
   "metadata": {},
   "outputs": [],
   "source": []
  }
 ],
 "metadata": {
  "interpreter": {
   "hash": "916dbcbb3f70747c44a77c7bcd40155683ae19c65e1c03b4aa3499c5328201f1"
  },
  "kernelspec": {
   "display_name": "Python 3.8.10 64-bit",
   "language": "python",
   "name": "python3"
  },
  "language_info": {
   "codemirror_mode": {
    "name": "ipython",
    "version": 3
   },
   "file_extension": ".py",
   "mimetype": "text/x-python",
   "name": "python",
   "nbconvert_exporter": "python",
   "pygments_lexer": "ipython3",
   "version": "3.8.10"
  },
  "orig_nbformat": 4
 },
 "nbformat": 4,
 "nbformat_minor": 2
}
